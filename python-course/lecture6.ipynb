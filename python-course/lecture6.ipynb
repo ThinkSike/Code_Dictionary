{
 "cells": [
  {
   "cell_type": "markdown",
   "id": "bb2533e1",
   "metadata": {},
   "source": [
    "### function "
   ]
  },
  {
   "cell_type": "code",
   "execution_count": null,
   "id": "ab2cc672",
   "metadata": {},
   "outputs": [],
   "source": [
    "def avg_of_three(a, b, c):\n",
    "    sum = a + b + c\n",
    "    average = sum / 3\n",
    "    return average\n",
    "print(avg_of_three(1, 2, 3))\n"
   ]
  },
  {
   "cell_type": "markdown",
   "id": "b978f4df",
   "metadata": {},
   "source": [
    "### print the elements of the list"
   ]
  },
  {
   "cell_type": "code",
   "execution_count": null,
   "id": "c243e886",
   "metadata": {},
   "outputs": [],
   "source": [
    "cities = [\"New York\", \"Los Angeles\", \"Chicago\"]\n",
    "heroes = [\"Superman\", \"Batman\", \"Wonder\"]\n",
    "\n",
    "def print_cities_and_heroes(list):\n",
    "    print(len(list))\n",
    "\n",
    "print_cities_and_heroes(cities)\n",
    "print_cities_and_heroes(heroes)"
   ]
  },
  {
   "cell_type": "markdown",
   "id": "27f31b04",
   "metadata": {},
   "source": [
    "### factorial of the n"
   ]
  },
  {
   "cell_type": "code",
   "execution_count": null,
   "id": "188959cc",
   "metadata": {},
   "outputs": [],
   "source": [
    "def factorial(n):\n",
    "    for i in range(1, n):\n",
    "        n *= i\n",
    "    return n\n",
    "\n",
    "input_number = int(input(\"Enter a number: \"))\n",
    "print(factorial(input_number))"
   ]
  }
 ],
 "metadata": {
  "kernelspec": {
   "display_name": "Python 3",
   "language": "python",
   "name": "python3"
  },
  "language_info": {
   "codemirror_mode": {
    "name": "ipython",
    "version": 3
   },
   "file_extension": ".py",
   "mimetype": "text/x-python",
   "name": "python",
   "nbconvert_exporter": "python",
   "pygments_lexer": "ipython3",
   "version": "3.13.5"
  }
 },
 "nbformat": 4,
 "nbformat_minor": 5
}
