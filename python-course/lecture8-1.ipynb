{
 "cells": [
  {
   "cell_type": "markdown",
   "id": "fe60a6af",
   "metadata": {},
   "source": [
    "### class & object"
   ]
  },
  {
   "cell_type": "code",
   "execution_count": null,
   "id": "2e0783a6",
   "metadata": {},
   "outputs": [],
   "source": [
    "class Student():\n",
    "    name = \"suraj mondal\"\n",
    "\n",
    "s1 = Student()\n",
    "print(s1.name)  # Output: suraj mondal"
   ]
  },
  {
   "cell_type": "markdown",
   "id": "2f1fe6bc",
   "metadata": {},
   "source": [
    "### abstruction "
   ]
  },
  {
   "cell_type": "code",
   "execution_count": null,
   "id": "73c1f68a",
   "metadata": {},
   "outputs": [
    {
     "ename": "SyntaxError",
     "evalue": "invalid syntax (2285075648.py, line 11)",
     "output_type": "error",
     "traceback": [
      "  \u001b[36mCell\u001b[39m\u001b[36m \u001b[39m\u001b[32mIn[17]\u001b[39m\u001b[32m, line 11\u001b[39m\n\u001b[31m    \u001b[39m\u001b[31mcar1.= car.start()\u001b[39m\n         ^\n\u001b[31mSyntaxError\u001b[39m\u001b[31m:\u001b[39m invalid syntax\n"
     ]
    }
   ],
   "source": [
    "class car:\n",
    "    def __init__(self):\n",
    "        self.acc = False\n",
    "        self.clutch = False\n",
    "        self.brk = False\n",
    "    def start():\n",
    "        self.acc = True\n",
    "        self.clutch = True\n",
    "        print(\"car started\")\n",
    "car1 = car()\n",
    "car1.start()  # This will call the start method of the car class"
   ]
  }
 ],
 "metadata": {
  "kernelspec": {
   "display_name": "Python 3",
   "language": "python",
   "name": "python3"
  },
  "language_info": {
   "codemirror_mode": {
    "name": "ipython",
    "version": 3
   },
   "file_extension": ".py",
   "mimetype": "text/x-python",
   "name": "python",
   "nbconvert_exporter": "python",
   "pygments_lexer": "ipython3",
   "version": "3.13.5"
  }
 },
 "nbformat": 4,
 "nbformat_minor": 5
}
