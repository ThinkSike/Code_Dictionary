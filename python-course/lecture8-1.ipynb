{
 "cells": [
  {
   "cell_type": "markdown",
   "id": "fe60a6af",
   "metadata": {},
   "source": [
    "### class & object"
   ]
  },
  {
   "cell_type": "code",
   "execution_count": 15,
   "id": "2e0783a6",
   "metadata": {},
   "outputs": [
    {
     "name": "stdout",
     "output_type": "stream",
     "text": [
      "suraj mondal\n"
     ]
    }
   ],
   "source": [
    "class Student():\n",
    "    name = \"suraj mondal\"\n",
    "\n",
    "s1 = Student()\n",
    "print(s1.name)  # Output: suraj mondal"
   ]
  }
 ],
 "metadata": {
  "kernelspec": {
   "display_name": "Python 3",
   "language": "python",
   "name": "python3"
  },
  "language_info": {
   "codemirror_mode": {
    "name": "ipython",
    "version": 3
   },
   "file_extension": ".py",
   "mimetype": "text/x-python",
   "name": "python",
   "nbconvert_exporter": "python",
   "pygments_lexer": "ipython3",
   "version": "3.13.5"
  }
 },
 "nbformat": 4,
 "nbformat_minor": 5
}
