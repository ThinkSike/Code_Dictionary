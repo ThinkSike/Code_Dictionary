{
 "cells": [
  {
   "cell_type": "markdown",
   "id": "bb2533e1",
   "metadata": {},
   "source": [
    "### function "
   ]
  },
  {
   "cell_type": "code",
   "execution_count": null,
   "id": "ab2cc672",
   "metadata": {},
   "outputs": [],
   "source": [
    "def avg_of_three(a, b, c):\n",
    "    sum = a + b + c\n",
    "    average = sum / 3\n",
    "    return average\n",
    "print(avg_of_three(1, 2, 3))\n"
   ]
  },
  {
   "cell_type": "markdown",
   "id": "b978f4df",
   "metadata": {},
   "source": [
    "### print the elements of the list"
   ]
  },
  {
   "cell_type": "code",
   "execution_count": null,
   "id": "c243e886",
   "metadata": {},
   "outputs": [],
   "source": [
    "cities = [\"New York\", \"Los Angeles\", \"Chicago\"]\n",
    "heroes = [\"Superman\", \"Batman\", \"Wonder\"]\n",
    "\n",
    "def print_cities_and_heroes(list):\n",
    "    print(len(list))\n",
    "\n",
    "print_cities_and_heroes(cities)\n",
    "print_cities_and_heroes(heroes)"
   ]
  },
  {
   "cell_type": "markdown",
   "id": "27f31b04",
   "metadata": {},
   "source": [
    "### factorial of the n"
   ]
  },
  {
   "cell_type": "code",
   "execution_count": null,
   "id": "188959cc",
   "metadata": {},
   "outputs": [],
   "source": [
    "def factorial(n):\n",
    "    for i in range(1, n):\n",
    "        n *= i\n",
    "    return n\n",
    "\n",
    "input_number = int(input(\"Enter a number: \"))\n",
    "print(factorial(input_number))"
   ]
  },
  {
   "cell_type": "markdown",
   "id": "47b36d69",
   "metadata": {},
   "source": [
    "### convert USD To INR"
   ]
  },
  {
   "cell_type": "code",
   "execution_count": 33,
   "id": "0b9df9a1",
   "metadata": {},
   "outputs": [
    {
     "name": "stdout",
     "output_type": "stream",
     "text": [
      "2.0 INR in USD is 0.024\n"
     ]
    }
   ],
   "source": [
    "# Function to convert INR to USD\n",
    "def USD():\n",
    "    # Take input amount in INR from user\n",
    "    n = float(input(\"Enter amount in INR to convert: \"))\n",
    "    # If amount is 1, print the conversion rate\n",
    "    if n == 1:\n",
    "        print(\"1 INR = 0.012 USD\")\n",
    "    else:\n",
    "        # Otherwise, convert INR to USD and print result\n",
    "        print(n, \"INR in USD is\", n * 0.012)\n",
    "\n",
    "# Function to convert USD to INR\n",
    "def INR():\n",
    "    # Take input amount in USD from user\n",
    "    n = float(input(\"Enter amount in USD to convert: \"))\n",
    "    # Convert USD to INR and print result\n",
    "    print(n, \"USD in INR is\", n * 83.0)\n",
    "\n",
    "# Main function to choose conversion direction\n",
    "def currency_conversion():\n",
    "    # Ask user to choose conversion type\n",
    "    choose = int(input(\"Enter the currency to convert USD or INR (1 or 2): \"))\n",
    "    if choose == 1:\n",
    "        # Convert INR to USD\n",
    "        USD()\n",
    "    elif choose == 2:\n",
    "        # Convert USD to INR\n",
    "        INR()\n",
    "    else:\n",
    "        # Handle invalid input\n",
    "        print(\"something went wrong try again\")\n",
    "\n",
    "# Call the main function to start currency conversion\n",
    "currency_conversion()"
   ]
  },
  {
   "cell_type": "markdown",
   "id": "23c16826",
   "metadata": {},
   "source": [
    "###"
   ]
  },
  {
   "cell_type": "code",
   "execution_count": null,
   "id": "d5792d2c",
   "metadata": {},
   "outputs": [],
   "source": []
  }
 ],
 "metadata": {
  "kernelspec": {
   "display_name": "Python 3",
   "language": "python",
   "name": "python3"
  },
  "language_info": {
   "codemirror_mode": {
    "name": "ipython",
    "version": 3
   },
   "file_extension": ".py",
   "mimetype": "text/x-python",
   "name": "python",
   "nbconvert_exporter": "python",
   "pygments_lexer": "ipython3",
   "version": "3.13.5"
  }
 },
 "nbformat": 4,
 "nbformat_minor": 5
}
